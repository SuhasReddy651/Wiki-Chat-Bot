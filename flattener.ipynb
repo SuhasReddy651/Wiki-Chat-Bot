{
 "cells": [
  {
   "cell_type": "code",
   "execution_count": 3,
   "metadata": {},
   "outputs": [
    {
     "name": "stdout",
     "output_type": "stream",
     "text": [
      "Cleaned data has been saved to data/wiki_data_new.json\n"
     ]
    }
   ],
   "source": [
    "import json\n",
    "\n",
    "# Load the JSON file\n",
    "input_file = \"data/wiki_data.json\"\n",
    "output_file = \"data/wiki_data_new.json\"\n",
    "\n",
    "# Function to clean text\n",
    "def clean_text(text):\n",
    "    # Remove unnecessary symbols\n",
    "    text = text.replace('\\\\n', ' ').replace('\\n', ' ')\n",
    "    text = text.replace('\\\\', '').strip()\n",
    "    return ' '.join(text.split())\n",
    "\n",
    "# Load data\n",
    "with open(input_file, 'r', encoding='utf-8') as file:\n",
    "    data = json.load(file)\n",
    "\n",
    "# Clean summaries in the dataset\n",
    "for category in data:\n",
    "    for entry in data[category]:\n",
    "        if 'summary' in entry:\n",
    "            entry['summary'] = clean_text(entry['summary'])\n",
    "\n",
    "# Save cleaned data\n",
    "with open(output_file, 'w', encoding='utf-8') as file:\n",
    "    json.dump(data, file, indent=4, ensure_ascii=False)\n",
    "\n",
    "print(f\"Cleaned data has been saved to {output_file}\")"
   ]
  },
  {
   "cell_type": "code",
   "execution_count": null,
   "metadata": {},
   "outputs": [
    {
     "name": "stderr",
     "output_type": "stream",
     "text": [
      "/Users/suhasreddy/Desktop/Code Base/.venv/lib/python3.10/site-packages/markdownify/__init__.py:122: MarkupResemblesLocatorWarning: The input looks more like a filename than markup. You may want to open this file and pass the filehandle into Beautiful Soup.\n",
      "  soup = BeautifulSoup(html, 'html.parser')\n"
     ]
    },
    {
     "name": "stdout",
     "output_type": "stream",
     "text": [
      "Markdown cleaned data has been saved to data/cleaned_plaintext_data.json\n"
     ]
    }
   ],
   "source": [
    "import json\n",
    "from markdownify import markdownify as md\n",
    "\n",
    "# Load the JSON file\n",
    "input_file = \"data/wiki_data.json\"\n",
    "output_file = \"data/cleaned_plaintext_data.json\"\n",
    "\n",
    "# Function to clean Markdown text\n",
    "def clean_markdown(text):\n",
    "    # Remove Markdown syntax\n",
    "    return md(text).strip()\n",
    "\n",
    "# Load the data\n",
    "with open(input_file, 'r', encoding='utf-8') as file:\n",
    "    data = json.load(file)\n",
    "\n",
    "# Clean summaries in the dataset\n",
    "for category in data:\n",
    "    for entry in data[category]:\n",
    "        if 'summary' in entry:\n",
    "            entry['summary'] = clean_markdown(entry['summary'])\n",
    "\n",
    "# Save cleaned data\n",
    "with open(output_file, 'w', encoding='utf-8') as file:\n",
    "    json.dump(data, file, indent=4, ensure_ascii=False)\n",
    "\n",
    "print(f\"Markdown cleaned data has been saved to {output_file}\")"
   ]
  },
  {
   "cell_type": "code",
   "execution_count": null,
   "metadata": {},
   "outputs": [],
   "source": []
  }
 ],
 "metadata": {
  "kernelspec": {
   "display_name": ".venv",
   "language": "python",
   "name": "python3"
  },
  "language_info": {
   "codemirror_mode": {
    "name": "ipython",
    "version": 3
   },
   "file_extension": ".py",
   "mimetype": "text/x-python",
   "name": "python",
   "nbconvert_exporter": "python",
   "pygments_lexer": "ipython3",
   "version": "3.10.15"
  }
 },
 "nbformat": 4,
 "nbformat_minor": 2
}
